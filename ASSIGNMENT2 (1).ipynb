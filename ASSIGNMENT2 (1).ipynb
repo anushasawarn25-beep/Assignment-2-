{
  "nbformat": 4,
  "nbformat_minor": 0,
  "metadata": {
    "colab": {
      "provenance": []
    },
    "kernelspec": {
      "name": "python3",
      "display_name": "Python 3"
    },
    "language_info": {
      "name": "python"
    }
  },
  "cells": [
    {
      "cell_type": "code",
      "execution_count": null,
      "metadata": {
        "colab": {
          "base_uri": "https://localhost:8080/"
        },
        "id": "jkTVf_1LLLl4",
        "outputId": "85460588-e89f-4dab-c9d5-fe31a3608903"
      },
      "outputs": [
        {
          "output_type": "stream",
          "name": "stdout",
          "text": [
            "ANU\n"
          ]
        }
      ],
      "source": [
        "#1 Write a code to create a string with your name and print it\n",
        "a=\"ANU\"\n",
        "print(a)"
      ]
    },
    {
      "cell_type": "code",
      "source": [
        "#2 Write a code to find the length of the string \"Hello World\"\n",
        "a=\"Hello World\"\n",
        "print(len(a))"
      ],
      "metadata": {
        "colab": {
          "base_uri": "https://localhost:8080/"
        },
        "id": "lMzpwz5VLqEw",
        "outputId": "3b8f635c-fcd9-4650-ee18-e52c4d1cf734"
      },
      "execution_count": null,
      "outputs": [
        {
          "output_type": "stream",
          "name": "stdout",
          "text": [
            "11\n"
          ]
        }
      ]
    },
    {
      "cell_type": "code",
      "source": [
        "#3 Write a code to slice the first 3 characters from the string \"Python Programming\"\n",
        "b=\"Python Programming\"\n",
        "sliced=b[0:3]\n",
        "print(sliced)\n"
      ],
      "metadata": {
        "colab": {
          "base_uri": "https://localhost:8080/"
        },
        "id": "dV5mWod8L7Rp",
        "outputId": "1b101bf4-7088-4151-ae7b-6c06db017b03"
      },
      "execution_count": null,
      "outputs": [
        {
          "output_type": "stream",
          "name": "stdout",
          "text": [
            "Pyt\n"
          ]
        }
      ]
    },
    {
      "cell_type": "code",
      "source": [
        "#4 Write a code to convert the string \"hello\" to uppercase\n",
        "a=\"hello\"\n",
        "print(a.upper())"
      ],
      "metadata": {
        "colab": {
          "base_uri": "https://localhost:8080/"
        },
        "id": "AmZJOpruNFyp",
        "outputId": "d0c134d2-4173-41db-b636-2ce9f71306af"
      },
      "execution_count": null,
      "outputs": [
        {
          "output_type": "stream",
          "name": "stdout",
          "text": [
            "HELLO\n"
          ]
        }
      ]
    },
    {
      "cell_type": "code",
      "source": [
        "#5 Write a code to replace the word \"apple\" with \"orange\" in the string \"I like apple\"\n",
        "a=\"I like apple\"\n",
        "print(a.replace(\"apple\",\"orange\"))\n"
      ],
      "metadata": {
        "colab": {
          "base_uri": "https://localhost:8080/"
        },
        "id": "voCB5hGbNQ9H",
        "outputId": "724e0f2f-b272-4f7a-ffb1-24c62f9501d9"
      },
      "execution_count": null,
      "outputs": [
        {
          "output_type": "stream",
          "name": "stdout",
          "text": [
            "I like orange\n"
          ]
        }
      ]
    },
    {
      "cell_type": "code",
      "source": [
        "#6 Write a code to create a list with numbers 1 to 5 and print it\n",
        "a=[1,2,3,4,5]\n",
        "print(a)\n"
      ],
      "metadata": {
        "colab": {
          "base_uri": "https://localhost:8080/"
        },
        "id": "GXNshOQ5Nweg",
        "outputId": "85f35320-d8df-478a-9f54-a4d4a6dbb178"
      },
      "execution_count": null,
      "outputs": [
        {
          "output_type": "stream",
          "name": "stdout",
          "text": [
            "[1, 2, 3, 4, 5]\n"
          ]
        }
      ]
    },
    {
      "cell_type": "code",
      "source": [
        "#7  Write a code to append the number 10 to the list [1, 2, 3, 4]\n",
        "a=[1,2,3,4]\n",
        "a.append(10)\n",
        "print(a)"
      ],
      "metadata": {
        "colab": {
          "base_uri": "https://localhost:8080/"
        },
        "id": "kcwCVpvPN5Wx",
        "outputId": "4878563f-cd67-43b7-eb7b-c7c804be92f5"
      },
      "execution_count": null,
      "outputs": [
        {
          "output_type": "stream",
          "name": "stdout",
          "text": [
            "[1, 2, 3, 4, 10]\n"
          ]
        }
      ]
    },
    {
      "cell_type": "code",
      "source": [
        "#8 Write a code to remove the number 3 from the list [1, 2, 3, 4, 5]\n",
        "a=[1,2,3,4,5]\n",
        "a.remove(3)\n",
        "print(a)"
      ],
      "metadata": {
        "colab": {
          "base_uri": "https://localhost:8080/"
        },
        "id": "5ORxHUePOdDn",
        "outputId": "3c8882f4-0cbf-430b-8bc4-87235aaa1ef2"
      },
      "execution_count": null,
      "outputs": [
        {
          "output_type": "stream",
          "name": "stdout",
          "text": [
            "[1, 2, 4, 5]\n"
          ]
        }
      ]
    },
    {
      "cell_type": "code",
      "source": [
        "#9 Write a code to access the second element in the list ['a', 'b', 'c', 'd']\n",
        "k=['a','b','c','d']\n",
        "second=k[1]\n",
        "print(second)"
      ],
      "metadata": {
        "colab": {
          "base_uri": "https://localhost:8080/"
        },
        "id": "U1YoPxtUO4Cq",
        "outputId": "8c8405f1-058d-483b-ace6-36560933e91d"
      },
      "execution_count": null,
      "outputs": [
        {
          "output_type": "stream",
          "name": "stdout",
          "text": [
            "b\n"
          ]
        }
      ]
    },
    {
      "cell_type": "code",
      "source": [
        "#10 Write a code to reverse the list [10, 20, 30, 40, 50].\n",
        "a=[10,20,30,40,50]\n",
        "list=a[::-1]\n",
        "print(list)"
      ],
      "metadata": {
        "colab": {
          "base_uri": "https://localhost:8080/"
        },
        "id": "5wxNo6UCP5Xv",
        "outputId": "9f900a62-d3e4-454b-b4f5-d8e547a55093"
      },
      "execution_count": null,
      "outputs": [
        {
          "output_type": "stream",
          "name": "stdout",
          "text": [
            "[50, 40, 30, 20, 10]\n"
          ]
        }
      ]
    },
    {
      "cell_type": "code",
      "source": [
        "#11  Write a code to create a tuple with the elements 100, 200, 300 and print it\n",
        "a=(100,200,300,400)\n",
        "print(a)\n",
        "print(type(a))"
      ],
      "metadata": {
        "colab": {
          "base_uri": "https://localhost:8080/"
        },
        "id": "KPtqK7rZR88_",
        "outputId": "c5bba4ac-15f5-4698-cb64-17416aa2e1db"
      },
      "execution_count": null,
      "outputs": [
        {
          "output_type": "stream",
          "name": "stdout",
          "text": [
            "(100, 200, 300, 400)\n",
            "<class 'tuple'>\n"
          ]
        }
      ]
    },
    {
      "cell_type": "code",
      "source": [
        "#12 Write a code to access the second-to-last element of the tuple ('red', 'green', 'blue', 'yellow').\n",
        "a=('red','green','blue','yellow')\n",
        "print(a[1])"
      ],
      "metadata": {
        "colab": {
          "base_uri": "https://localhost:8080/"
        },
        "id": "A8APovzRSqF2",
        "outputId": "4ffc3b51-952f-4dd4-d298-b34d07af8bf2"
      },
      "execution_count": null,
      "outputs": [
        {
          "output_type": "stream",
          "name": "stdout",
          "text": [
            "green\n"
          ]
        }
      ]
    },
    {
      "cell_type": "code",
      "source": [
        "#13 3. Write a code to find the minimum number in the tuple (10, 20, 5, 15).\n",
        "a=(10,20,5,15 )\n",
        "print(min(a))"
      ],
      "metadata": {
        "colab": {
          "base_uri": "https://localhost:8080/"
        },
        "id": "ZgfbT0ARS-47",
        "outputId": "3adf4a4c-cb38-47ee-feb5-c27f5b489f29"
      },
      "execution_count": null,
      "outputs": [
        {
          "output_type": "stream",
          "name": "stdout",
          "text": [
            "5\n"
          ]
        }
      ]
    },
    {
      "cell_type": "code",
      "source": [
        "#14  Write a code to find the index of the element \"cat\" in the tuple ('dog', 'cat', 'rabbit').\n",
        "a=('cat','dog','rabbit')\n",
        "cat_ind=a.index('cat')\n",
        "print(cat_ind)"
      ],
      "metadata": {
        "colab": {
          "base_uri": "https://localhost:8080/"
        },
        "id": "TuHeIOUeTxdD",
        "outputId": "39188012-3c33-49a3-8caf-e6156c89f443"
      },
      "execution_count": null,
      "outputs": [
        {
          "output_type": "stream",
          "name": "stdout",
          "text": [
            "0\n"
          ]
        }
      ]
    },
    {
      "cell_type": "code",
      "source": [
        "#15  Write a code to create a tuple containing three different fruits and check if \"kiwi\" is in it.\n",
        "a=('apple','mango','kiwi','pear')\n",
        "if\"kiwi\"in a:\n",
        "  print(\"kiwi is in there\")\n",
        "else:\n",
        "  print(\"there is no kiwi\")\n",
        "fruit=('apple','mango','pear')\n",
        "print('kiwi' in fruit)"
      ],
      "metadata": {
        "colab": {
          "base_uri": "https://localhost:8080/"
        },
        "id": "flf5n9ivUwel",
        "outputId": "7a46a4c4-9ba7-42b8-baf1-1a21e5c73613"
      },
      "execution_count": null,
      "outputs": [
        {
          "output_type": "stream",
          "name": "stdout",
          "text": [
            "kiwi is in there\n",
            "False\n"
          ]
        }
      ]
    },
    {
      "cell_type": "code",
      "source": [
        "#16  Write a code to create a set with the elements 'a', 'b', 'c' and print it\n",
        "a={'a','b','c','d'}\n",
        "print(a)"
      ],
      "metadata": {
        "colab": {
          "base_uri": "https://localhost:8080/"
        },
        "id": "mv2Dw2E9V5I5",
        "outputId": "832381ed-0b06-4369-a51a-4cf109895ea0"
      },
      "execution_count": null,
      "outputs": [
        {
          "output_type": "stream",
          "name": "stdout",
          "text": [
            "{'a', 'c', 'b', 'd'}\n"
          ]
        }
      ]
    },
    {
      "cell_type": "code",
      "source": [
        "#17 Write a code to clear all elements from the set {1, 2, 3, 4, 5}\n",
        "a={1,2,3,4,5}\n",
        "a.clear()\n",
        "print(a)"
      ],
      "metadata": {
        "colab": {
          "base_uri": "https://localhost:8080/"
        },
        "id": "JwAavUyjfUx9",
        "outputId": "7fdf1096-9720-4e1b-ad5b-4b3668e79bb5"
      },
      "execution_count": null,
      "outputs": [
        {
          "output_type": "stream",
          "name": "stdout",
          "text": [
            "set()\n"
          ]
        }
      ]
    },
    {
      "cell_type": "code",
      "source": [
        "#18  Write a code to remove the element 4 from the set {1, 2, 3, 4}.\n",
        "a={1,2,3,4}\n",
        "a.remove(4)\n",
        "print(a)"
      ],
      "metadata": {
        "colab": {
          "base_uri": "https://localhost:8080/"
        },
        "id": "LBUmc1IggVGb",
        "outputId": "0c60f9b6-1c3e-463c-8bfe-13f331b7c9c9"
      },
      "execution_count": null,
      "outputs": [
        {
          "output_type": "stream",
          "name": "stdout",
          "text": [
            "{1, 2, 3}\n"
          ]
        }
      ]
    },
    {
      "cell_type": "code",
      "source": [
        "#19 . Write a code to find the union of two sets {1, 2, 3} and {3, 4, 5}\n",
        "a={1,2,3,}\n",
        "b={3,4,5}\n",
        "c=a.union(b)\n",
        "print(\"union of a & b: \",c)"
      ],
      "metadata": {
        "colab": {
          "base_uri": "https://localhost:8080/"
        },
        "id": "R2Poepkvgu1l",
        "outputId": "c5c6c588-2b37-4f9f-d984-a5abec050a41"
      },
      "execution_count": null,
      "outputs": [
        {
          "output_type": "stream",
          "name": "stdout",
          "text": [
            "union of a & b:  {1, 2, 3, 4, 5}\n"
          ]
        }
      ]
    },
    {
      "cell_type": "code",
      "source": [
        "#20  Write a code to find the intersection of two sets {1, 2, 3} and {2, 3, 4}.\n",
        "a={1,2,3,}\n",
        "b={3,4,5}\n",
        "c=a.intersection(b)\n",
        "print(\"intersection of a & b: \",c)\n"
      ],
      "metadata": {
        "colab": {
          "base_uri": "https://localhost:8080/"
        },
        "id": "CCgrJERmhWHt",
        "outputId": "ebe50d79-fc46-405d-9363-434081001471"
      },
      "execution_count": null,
      "outputs": [
        {
          "output_type": "stream",
          "name": "stdout",
          "text": [
            "intersection of a & b:  {3}\n"
          ]
        }
      ]
    },
    {
      "cell_type": "code",
      "source": [
        "#21  Write a code to create a dictionary with the keys \"name\", \"age\", and \"city\", and print it.\n",
        "info={'name':'Anu','age':'20','city':'New Delhi'}\n",
        "print(info)"
      ],
      "metadata": {
        "colab": {
          "base_uri": "https://localhost:8080/"
        },
        "id": "xxsoFUz_hnJo",
        "outputId": "fd88e0ea-42a0-4428-8cbc-7deaf1aedb06"
      },
      "execution_count": null,
      "outputs": [
        {
          "output_type": "stream",
          "name": "stdout",
          "text": [
            "{'name': 'Anu', 'age': '20', 'city': 'New Delhi'}\n"
          ]
        }
      ]
    },
    {
      "cell_type": "code",
      "source": [
        "#22 . Write a code to add a new key-value pair \"country\": \"USA\" to the dictionary {'name': 'John', 'age': 25}.\n",
        "info= {'name': 'John', 'age': 25}\n",
        "info.update({'country':'USA'})\n",
        "print(info)"
      ],
      "metadata": {
        "colab": {
          "base_uri": "https://localhost:8080/"
        },
        "id": "FYDRmbGciK4D",
        "outputId": "934a0943-dfdd-4c24-ad22-d392f9db6aab"
      },
      "execution_count": null,
      "outputs": [
        {
          "output_type": "stream",
          "name": "stdout",
          "text": [
            "{'name': 'John', 'age': 25, 'country': 'USA'}\n"
          ]
        }
      ]
    },
    {
      "cell_type": "code",
      "source": [
        "#23 . Write a code to access the value associated with the key \"name\" in the dictionary {'name': 'Alice', 'age': 30}\n",
        "info={'name': 'Alice', 'age': 30}\n",
        "new_info=info.get('name')\n",
        "print(new_info)\n",
        "new_info1=info['age']\n",
        "print(new_info1)"
      ],
      "metadata": {
        "colab": {
          "base_uri": "https://localhost:8080/"
        },
        "id": "4QlGGngmjSmd",
        "outputId": "14ec78eb-a02b-4c83-9599-c08a7ad0cfc3"
      },
      "execution_count": null,
      "outputs": [
        {
          "output_type": "stream",
          "name": "stdout",
          "text": [
            "Alice\n",
            "30\n"
          ]
        }
      ]
    },
    {
      "cell_type": "code",
      "source": [
        "#24 . . Write a code to remove the key \"age\" from the dictionary {'name': 'Bob', 'age': 22, 'city': 'New York'}.\n",
        "info={'name': 'Bob', 'age': 22, 'city': 'New York'}\n",
        "new_info=info.pop('age')\n",
        "print(new_info)\n",
        "del info['city']\n",
        "print(info)"
      ],
      "metadata": {
        "colab": {
          "base_uri": "https://localhost:8080/"
        },
        "id": "MasxcF3-kgDK",
        "outputId": "4274801d-4894-4f61-be18-a4c35352ee9d"
      },
      "execution_count": null,
      "outputs": [
        {
          "output_type": "stream",
          "name": "stdout",
          "text": [
            "22\n",
            "{'name': 'Bob'}\n"
          ]
        }
      ]
    },
    {
      "cell_type": "code",
      "source": [
        "#25 Write a code to check if the key \"city\" exists in the dictionary {'name': 'Alice', 'city': 'Paris'}.\n",
        "dict={'name': 'Alice', 'city': 'Paris'}\n",
        "if 'city'in dict:\n",
        "  print('yes')\n",
        "else:\n",
        "  print('no')"
      ],
      "metadata": {
        "colab": {
          "base_uri": "https://localhost:8080/"
        },
        "id": "N9w4YRVUmBGL",
        "outputId": "a45f2449-7de8-4d2c-ad14-3e929111eba1"
      },
      "execution_count": null,
      "outputs": [
        {
          "output_type": "stream",
          "name": "stdout",
          "text": [
            "yes\n"
          ]
        }
      ]
    },
    {
      "cell_type": "code",
      "source": [
        "#26 Write a code to create a list, a tuple, and a dictionary, and print them all\n",
        "my_list = [10, 20, 30, 40, 50]\n",
        "\n",
        "my_tuple = (100, 200, 300, 400, 500)\n",
        "\n",
        "my_dict = {\n",
        "    \"name\": \"Navneet\",\n",
        "    \"age\": 20,\n",
        "    \"city\": \"Delhi\"\n",
        "}\n",
        "\n",
        "print(\"List:\", my_list)\n",
        "print(\"Tuple:\", my_tuple)\n",
        "print(\"Dictionary:\", my_dict)\n"
      ],
      "metadata": {
        "id": "FGOS1NASmf3w",
        "colab": {
          "base_uri": "https://localhost:8080/"
        },
        "outputId": "b14fddbd-fd85-48b2-817d-3faf2f34c010"
      },
      "execution_count": 1,
      "outputs": [
        {
          "output_type": "stream",
          "name": "stdout",
          "text": [
            "List: [10, 20, 30, 40, 50]\n",
            "Tuple: (100, 200, 300, 400, 500)\n",
            "Dictionary: {'name': 'Navneet', 'age': 20, 'city': 'Delhi'}\n"
          ]
        }
      ]
    },
    {
      "cell_type": "code",
      "source": [
        "#27Write a code to create a list of 5 random numbers between 1 and 100, sort it in ascending order, and print the\n",
        " #result.(replaced)\n",
        "import random\n",
        "\n",
        "numbers = [random.randint(1, 100) for i in range(5)]\n",
        "\n",
        "numbers.sort()\n",
        "\n",
        "print(\"Sorted list of random numbers:\", numbers)\n"
      ],
      "metadata": {
        "colab": {
          "base_uri": "https://localhost:8080/"
        },
        "id": "0D5ptDWsoGZv",
        "outputId": "f7247553-80f1-4dee-9f1a-ddf05b12b99f"
      },
      "execution_count": 4,
      "outputs": [
        {
          "output_type": "stream",
          "name": "stdout",
          "text": [
            "Sorted list of random numbers: [3, 14, 42, 60, 93]\n"
          ]
        }
      ]
    },
    {
      "cell_type": "code",
      "source": [
        "#Write a code to create a list with strings and print the element at the third index.\n",
        "a=['apple','mango','banana','litchi']\n",
        "print(a[3])"
      ],
      "metadata": {
        "colab": {
          "base_uri": "https://localhost:8080/"
        },
        "id": "1t23O0NMolD8",
        "outputId": "4e19dc79-8c92-4743-d7bf-da1c84716911"
      },
      "execution_count": 5,
      "outputs": [
        {
          "output_type": "stream",
          "name": "stdout",
          "text": [
            "litchi\n"
          ]
        }
      ]
    },
    {
      "cell_type": "code",
      "source": [
        "# 29 Write a code to combine two dictionaries into one and print the result.\n",
        "\n",
        "dict1 = {\"a\": 1, \"b\": 2, \"c\": 3}\n",
        "dict2 = {\"d\": 4, \"e\": 5, \"f\": 6}\n",
        "\n",
        "combined_dict = dict1 | dict2\n",
        "\n",
        "print(\"Combined Dictionary:\", combined_dict)\n"
      ],
      "metadata": {
        "colab": {
          "base_uri": "https://localhost:8080/"
        },
        "id": "QDyaZhWKo_Zc",
        "outputId": "6c33d68f-9a78-4315-d612-c85046c26ed2"
      },
      "execution_count": 6,
      "outputs": [
        {
          "output_type": "stream",
          "name": "stdout",
          "text": [
            "Combined Dictionary: {'a': 1, 'b': 2, 'c': 3, 'd': 4, 'e': 5, 'f': 6}\n"
          ]
        }
      ]
    },
    {
      "cell_type": "code",
      "source": [
        "# 30  Write a code to convert a list of strings into a set.\n",
        "\n",
        "list1 = [\"apple\", \"banana\", \"mango\", \"apple\", \"orange\", \"banana\"]\n",
        "\n",
        "set2 = set(my_list)\n",
        "\n",
        "print( list1)\n",
        "print(set2)\n"
      ],
      "metadata": {
        "colab": {
          "base_uri": "https://localhost:8080/"
        },
        "id": "6FIATz_8pSps",
        "outputId": "d33bc5b3-ebc2-4d11-dc0f-f600b3165d1b"
      },
      "execution_count": 8,
      "outputs": [
        {
          "output_type": "stream",
          "name": "stdout",
          "text": [
            "['apple', 'banana', 'mango', 'apple', 'orange', 'banana']\n",
            "{40, 10, 50, 20, 30}\n"
          ]
        }
      ]
    },
    {
      "cell_type": "markdown",
      "source": [
        " THEORITICAL PORTION"
      ],
      "metadata": {
        "id": "fHZdBN3jpzxF"
      }
    },
    {
      "cell_type": "markdown",
      "source": [
        "What are data structures, and why are they important?\n",
        "DATA STRUCTURES are ways of organizing and storing data so that it can be accessed and modified efficiently. Common data structures include arrays, linked lists, trees, stacks, queues, hash tables, and graphs. Each type of data structure is optimized for specific tasks, and understanding when to use which one is crucial for writing efficient code.\n",
        "Essential for Efficient Problem-Solving\n",
        "Crucial for Job Interviews at Top Tech Companies\n",
        " Improves Coding Skills\n",
        " Solving Real-World Problems"
      ],
      "metadata": {
        "id": "LmyufzPap3JC"
      }
    },
    {
      "cell_type": "markdown",
      "source": [
        " Explain the difference between mutable and immutable data types with examples\n",
        "  Immutable Objects\n",
        "Immutable Objects are of in-built datatypes like int, float, bool, string, Unicode, and tuple. In simple words, an immutable object can’t be changed after it is created.  \n",
        "  \n",
        "tuple1 = (0, 1, 2, 3)\n",
        "tuple1[0] = 4\n",
        "print(tuple1)\n",
        "\n",
        " Mutable Objects\n",
        " Mutability refers to the capability of an object to be changed or modified after its creation.  \n",
        " my_list = [1, 2, 3]\n",
        "my_list.append(4)\n",
        "print(my_list)\n",
        "\n",
        "my_list.insert(1, 5)\n",
        "print(my_list)\n",
        "\n",
        "my_list.remove(2)\n",
        "print(my_list)\n",
        "\n",
        "popped_element = my_list.pop(0)\n",
        "print(my_list)         \n",
        "print(popped_element)\n",
        "\n",
        "Mutable and immutable objects are handled differently in Python. Immutable objects are quicker to access and are expensive to change because it involves the creation of a copy. Whereas mutable objects are easy to change.\n",
        "The use of mutable objects is recommended when there is a need to change the size or content of the object.\n",
        "Exception: However, there is an exception in immutability as well. We know that a tuple in Python is immutable. But the tuple consists of a sequence of names with unchangeable bindings to objects."
      ],
      "metadata": {
        "id": "KvgOajDlrtxH"
      }
    },
    {
      "cell_type": "markdown",
      "source": [
        " What are the main differences between lists and tuples in Python?\n",
        "  Mutability\n",
        "Lists: Mutable, meaning you can modify their content (add, remove, or change elements)\n",
        "Lists: Slightly slower due to their mutable nature, as they require extra memory for dynamic resizing.\n",
        "Syntax\n",
        "Lists: Defined using square brackets []\n",
        "\n",
        "Tuples: Immutable, meaning their content cannot be changed after creation.\n",
        "Tuples: Faster and more memory-efficient because they are immutable.\n",
        "Syntax\n",
        "Tuples: Defined using parentheses () or without any brackets for a single element.\n"
      ],
      "metadata": {
        "id": "3IBoFWEQtDgB"
      }
    },
    {
      "cell_type": "markdown",
      "source": [
        "Describe how dictionaries store data?\n",
        "Python dictionary is a data structure that stores the value in key: value pairs. Values in a dictionary can be of any data type and can be duplicated, whereas keys can't be repeated and must be immutable.\n",
        "\n",
        "Keys are case sensitive which means same name but different cases of Key will be treated distinctly.\n",
        "Keys must be immutable which means keys can be strings, numbers or tuples but not lists.\n",
        "Duplicate keys are not allowed and any duplicate key will overwrite the previous value.\n",
        "Internally uses hashing. Hence, operations like search, insert, delete can be performed in Constant Time."
      ],
      "metadata": {
        "id": "E0UG5ENJutTi"
      }
    },
    {
      "cell_type": "markdown",
      "source": [
        "Why might you use a set instead of a list in Python?\n",
        " sets and lists are both used to store collections of elements, but they serve different purposes due to their unique characteristics. Here are key reasons why you might use a set instead of a list:\n",
        "\n",
        "1. Uniqueness of Elements\n",
        "Set: Automatically removes duplicate elements. If you need a collection of unique items, a set is ideal.\n",
        "Example: set([1, 2, 2, 3]) results in {1, 2, 3}.\n",
        "List: Allows duplicates, so you would need to manually handle duplicates if uniqueness is required.\n",
        "\n",
        "2. Unordered Collection\n",
        "Set: Elements are unordered and unindexed, which is useful when the order of elements doesn't matter.\n",
        "List: Maintains the order of elements, making it better for ordered data.\n",
        "\n",
        "3. Built-in Set Operations\n",
        "Set: Supports mathematical operations like union (|), intersection (&), difference (-), and symmetric difference (^), which are not natively available for lists.\n",
        "Example: {1, 2, 3} & {2, 3, 4} results in {2, 3}.\n",
        "List: Requires manual implementation for such operations.\n",
        "\n",
        "When to Use a Set\n",
        "When you need unique elements.\n",
        "When order doesn't matter.\n",
        "When you need fast membership testing.\n",
        "When you want to perform set operations.\n",
        "If you need ordered, duplicate-allowing collections or indexing capabilities, a list would be more appropriate.\n",
        "\n"
      ],
      "metadata": {
        "id": "udUV9Uh0vFl4"
      }
    },
    {
      "cell_type": "markdown",
      "source": [
        "What is a string in Python, and how is it different from a list3\n",
        "A string in Python is a sequence of characters enclosed in either single quotes (') or double quotes (\"). Strings are immutable, meaning once created, they cannot be changed. They are widely used for handling and manipulating text\n",
        "Key Differences\n",
        "\n",
        "Mutability: Lists are mutable, while strings are immutable.\n",
        "\n",
        "Data Types: Lists can store multiple data types, whereas strings only store characters.\n",
        "\n",
        "Modification: Lists can be modified in place, but modifying a string requires creating a new one.\n",
        "\n",
        "Operations: Strings support operations like concatenation (+) and slicing, while lists support operations like appending (append) and removing (remove)."
      ],
      "metadata": {
        "id": "jvJjWPwRv2lc"
      }
    },
    {
      "cell_type": "markdown",
      "source": [
        "How do tuples ensure data integrity in Python?\n",
        "Tuples in Python are immutable ordered collections of elements, meaning their contents cannot be altered after creation. This immutability is a key feature that ensures data integrity by preventing unintended modifications to the data.\n",
        "\n",
        "Immutability and Data Integrity\n",
        "\n",
        "Once a tuple is created, its elements cannot be changed, added, or removed. This immutability guarantees that the data remains consistent throughout the program's execution. For example, if a tuple is passed to a function, the function cannot modify its contents, ensuring the original data remains intact.\n",
        "Hashability and Use in Data Structures\n",
        "\n",
        "Tuples are hashable if all their elements are hashable. This allows them to be used as keys in dictionaries or elements in sets, ensuring that the data remains unique and unaltered.\n",
        "he hashability of tuples ensures that their values cannot be accidentally changed, which is essential for maintaining the integrity of keys in data structures.\n"
      ],
      "metadata": {
        "id": "CK-uu15_wc1D"
      }
    },
    {
      "cell_type": "markdown",
      "source": [
        "What is a hash table, and how does it relate to dictionaries in Python?\n",
        "A hash table is a data structure that stores data in key–value pairs.\n",
        "\n",
        "It uses a hash function to convert a key into an index in an underlying array (bucket).\n",
        "\n",
        "The value is stored at that index.\n",
        "\n",
        "This makes searching, inserting, and deleting data very fast (on average O(1) time).\n",
        "You give a key (like \"name\").\n",
        "\n",
        "A hash function converts the key into a number (index).\n",
        "\n",
        "That number decides where in memory the value is stored.\n",
        "\n",
        "When you want the value back, the same process happens in reverse.\n",
        "Dictionaries (dict) are implemented using hash tables"
      ],
      "metadata": {
        "id": "4fXVVC0Lxtus"
      }
    },
    {
      "cell_type": "markdown",
      "source": [
        "P Can lists contain different data types in Python?\n",
        "Yes , in Python lists can contain different data types in a single list.\n",
        "\n",
        "This is because Python is dynamically typed, meaning the type of elements is determined at runtime, and lists don’t require all items to be of the same type."
      ],
      "metadata": {
        "id": "5VrHAvPXyWMu"
      }
    },
    {
      "cell_type": "markdown",
      "source": [
        "Explain why strings are immutable in Python?\n",
        "Immutable means unchangeable.\n",
        "\n",
        "Once a string is created in Python, you cannot modify it directly (change characters, insert, or delete in place).\n",
        "\n",
        "Any \"modification\" creates a new string object.\n",
        "Memory efficiency (string interning)\n",
        "\n",
        "Python often reuses string objects to save memory.\n",
        "Hashing and dictionary keys\n",
        "\n",
        "Strings are commonly used as keys in dictionaries (which use hash tables).\n",
        "\n",
        "For hashing to work, keys must remain constant.\n",
        "\n",
        "If strings were mutable, their hash value could change, breaking dictionary lookups."
      ],
      "metadata": {
        "id": "gpR_3_Gtyg8v"
      }
    },
    {
      "cell_type": "markdown",
      "source": [
        "What advantages do dictionaries offer over lists for certain tasks?\n",
        "List: To find an item, Python may need to scan the whole list (linear search).\n",
        "List: Only stores values with numeric indexes (0,1,2...).\n",
        "Lists are ordered\n",
        "Lists allow duplicates freely\n",
        "\n",
        "Dictionary: Uses hash tables, so lookups by key are almost instant.\n",
        "Dictionary: Stores meaningful keys with values.\n",
        "Dictionaries  remember insertion order, but you don’t rely on numeric indexes.\n",
        "Dictionaries automatically prevent duplicate keys (latest value replaces the old one).\n"
      ],
      "metadata": {
        "id": "F7Gtv6tby9B4"
      }
    },
    {
      "cell_type": "markdown",
      "source": [
        "Describe a scenario where using a tuple would be preferable over a list\n",
        "Tuples and lists are both used to store collections of data in Python, but they differ in key characteristics such as mutability, performance, and memory usage. A tuple is immutable, meaning its contents cannot be changed after creation, while a list is mutable and allows modifications.If you need to store a collection of data that should remain constant throughout the program's execution, a tuple is the better choice.\n"
      ],
      "metadata": {
        "id": "XWOAEvKy0Fd7"
      }
    },
    {
      "cell_type": "markdown",
      "source": [
        "How do sets handle duplicate values in Python?\n",
        "In Python, sets automatically handle duplicate values by removing them.\n",
        "\n",
        "Key Points:\n",
        "\n",
        "Sets are unordered collections of unique elements.\n",
        "\n",
        "If you try to add a duplicate value, Python ignores it.\n",
        "\n",
        "This makes sets useful when you want only distinct values."
      ],
      "metadata": {
        "id": "gU5h1fG12S-9"
      }
    },
    {
      "cell_type": "markdown",
      "source": [
        "P How does the “in” keyword work differently for lists and dictionaries3\n",
        "in with Lists\n",
        "\n",
        "Checks whether a value exists in the list.\n",
        "\n",
        "Python scans the list element by element (linear search)\n",
        "in with Dictionaries\n",
        "\n",
        "Checks whether a key exists in the dictionary, not the value.\n",
        "\n",
        "Python uses the hash table to find the key efficiently."
      ],
      "metadata": {
        "id": "8j_2bbD32Xbg"
      }
    },
    {
      "cell_type": "markdown",
      "source": [
        "Can you modify the elements of a tuple? Explain why or why not?\n",
        "No, you cannot modify the elements of a tuple in Python.\n",
        "\n",
        "Reason: Immutability\n",
        "\n",
        "Tuples are immutable, meaning their contents cannot be changed once created.\n",
        "\n",
        "This applies to:\n",
        "\n",
        "Changing an element\n",
        "\n",
        "Adding new elements"
      ],
      "metadata": {
        "id": "pOcaBFKa2xuz"
      }
    },
    {
      "cell_type": "markdown",
      "source": [
        " What is a nested dictionary, and give an example of its use case?\n",
        " A nested dictionary in Python is a dictionary inside another dictionary. This allows you to represent complex, hierarchical data.\n",
        " Outer dictionary: contains keys mapping to inner dictionaries\n",
        "\n",
        "Inner dictionary: contains actual data or further keys\n",
        "A nested dictionary lets you store and organize complex data hierarchically, making it easier to manage multi-level information"
      ],
      "metadata": {
        "id": "HkulanHq3DMA"
      }
    },
    {
      "cell_type": "markdown",
      "source": [
        "Describe the time complexity of accessing elements in a dictionaryP\n",
        "\n",
        "Python dictionaries are implemented as hash tables, making them highly efficient for key-based operations. The average time complexity for accessing a value by its key is O(1). This efficiency is due to the hash function, which maps keys to specific memory locations, allowing for constant-time lookups.\n",
        "\n",
        "Why O(1) Complexity?\n",
        "\n",
        "When you access a dictionary key, Python computes the hash of the key using the hash() function. This hash value determines the index in the underlying hash table where the value is stored. Since this process involves direct indexing, it is independent of the dictionary's size, resulting in O(1) complexity."
      ],
      "metadata": {
        "id": "O_dd6rNi3dML"
      }
    },
    {
      "cell_type": "markdown",
      "source": [
        " In what situations are lists preferred over dictionaries?\n",
        " Situations Where Lists Are Better\n",
        "\n",
        "Ordered Data Matters\n",
        "\n",
        "Lists maintain the order of elements, making them ideal for sequences, queues, or stacks.\n",
        "Index-Based Access\n",
        "\n",
        "When you need to access elements by position, lists are simpler.\n",
        "Simple Collections Without Keys\n",
        "\n",
        "If you just need a group of items and don’t need to map them to specific keys.\n",
        "Iteration in Sequence\n",
        "\n",
        "Iterating over a list is straightforward for tasks like looping through elements in order."
      ],
      "metadata": {
        "id": "OUVzpTep39W6"
      }
    },
    {
      "cell_type": "markdown",
      "source": [
        "Why are dictionaries considered unordered, and how does that affect data retrieval?\n",
        "Why Dictionaries Are Considered “Unordered”\n",
        "\n",
        "Historical Perspective :\n",
        "\n",
        "Dictionaries were unordered collections of key-value pairs.\n",
        "\n",
        "This means that the order in which items were inserted was not preserved\n",
        "Underlying Data Structure:\n",
        "\n",
        "Dictionaries use a hash table to store key-value pairs.\n",
        "\n",
        "Keys are hashed to compute their location in memory.\n",
        "\n",
        "Because items are stored based on hash values rather than insertion order, the original order isn’t guaranteed (in older Python versions)."
      ],
      "metadata": {
        "id": "ukl_C_qs4iZZ"
      }
    },
    {
      "cell_type": "markdown",
      "source": [
        "P Explain the difference between a list and a dictionary in terms of data retrieval.\n",
        "List\n",
        "\n",
        "Access Method: By index (position in the list).\n",
        "Dictionary\n",
        "\n",
        "Access Method: By key (not by position)."
      ],
      "metadata": {
        "id": "GqxJmUsZ7SJE"
      }
    }
  ]
}